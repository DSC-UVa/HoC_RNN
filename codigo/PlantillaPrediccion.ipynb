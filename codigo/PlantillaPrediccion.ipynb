{
  "nbformat": 4,
  "nbformat_minor": 0,
  "metadata": {
    "colab": {
      "name": "PlantillaPrediccion.ipynb",
      "provenance": []
    },
    "kernelspec": {
      "name": "python3",
      "display_name": "Python 3"
    }
  },
  "cells": [
    {
      "cell_type": "markdown",
      "metadata": {
        "id": "wR7zjr9lpdEQ"
      },
      "source": [
        "## TALLER HORA DEL CÓDIGO"
      ]
    },
    {
      "cell_type": "markdown",
      "metadata": {
        "id": "ldokgPhMpfDB"
      },
      "source": [
        "Predicción de datos bursátiles con una RNN.\n",
        "\n",
        "0. Estudio corto sobre Redes Neuronales y Series temporales bursátiles.\n",
        "1. Descarga de datos mediante API Quandl. (https://www.quandl.com/)\n",
        "2. Analizar datos y conjuntos.\n",
        "3. Visualizar y entender datos elegidos.\n",
        "4. Transformación de datos para entrenamiento de RNN.\n",
        "5. Construcción y entrenamiendo de RNN.\n",
        "6. Predicción de datos de validación.\n",
        "7. Evaluación de diferentes modelos.\n",
        "\n",
        "DATO: Mi código no es el mejor del mundo y seguro que hay formas mas eficientes."
      ]
    },
    {
      "cell_type": "markdown",
      "metadata": {
        "id": "Nfwi41JKprbZ"
      },
      "source": [
        "### Estudio sobre Series Temporales Bursátiles.\n",
        "\n",
        "* Análisis Fundamental y Análisis Técnico.\n",
        "* Tipos de Tendencias, Resistencia, Soporte, Inversión a la alza y a la baja.\n",
        "* Importancia de muchos atributos a la hora de variar el precio.\n",
        "\n",
        "### Estudio de Redes Neuronales.\n",
        "\n",
        "* ¿Qué es una red neuronal? Caja negra\n",
        "* ¿Cómo funciona de manera simplificada? Fordward y Descenso de Gradiente\n",
        "* Diferentes tipos según el tipo de problema.\n",
        "* ¿Qué es una Red Neuronal Recurrente y en que se diferencian?\n",
        "* ¿Qué es Keras y TensorFlow y por qué se elige esto?\n",
        "* Construcción de una Red Neuronal."
      ]
    },
    {
      "cell_type": "code",
      "metadata": {
        "id": "R0F4am3dpS3S"
      },
      "source": [
        "!pip install quandl\n",
        "# Import predefinifods\n",
        "import pandas as pd\n",
        "import numpy as np\n",
        "import matplotlib.pyplot as plt\n",
        "from sklearn.preprocessing import MinMaxScaler\n",
        "from sklearn.metrics import mean_squared_error\n",
        "from math import sqrt\n",
        "\n",
        "# Importa descaga de datos\n",
        "import quandl\n",
        "\n",
        "# Import red Neuronal\n",
        "from keras.utils import to_categorical\n",
        "from keras.models import Sequential\n",
        "from keras.layers import Dense\n",
        "from keras.layers import SimpleRNN #Redes Recurrentes\n",
        "from keras.layers import LSTM\n",
        "from keras.layers import GRU\n",
        "import keras.backend as K\n",
        "\n",
        "# Graficos (estilos)\n",
        "#plt.style.use('fivethirtyeight')\n",
        "#plt.style.use('dark_background')\n",
        "plt.style.use('seaborn')"
      ],
      "execution_count": null,
      "outputs": []
    },
    {
      "cell_type": "markdown",
      "metadata": {
        "id": "HHmkB4eXp-O8"
      },
      "source": [
        "### Descarga de datos mediante API Quandl.\n",
        "\n",
        "Uso de API Quandl para la descarga de los datos deseados. Debido a que usamos la versión gratuita no tenemos disposición de todos los datos como nos gustaría por lo que usamos los datos del 2010 para entrenar la red neuronal e intentar predecir el siguiente trimestre.\n",
        "\n",
        "Recomiendo usar el paquete WIKI para las cuentas gratuitas. Todos los tickets se encuentran en un .csv por internet. \n",
        "\n",
        "Se descargan los datos para entrenar la red neuronal y para validar el modelo más tarde."
      ]
    },
    {
      "cell_type": "code",
      "metadata": {
        "id": "BEZY90nBqFNz"
      },
      "source": [
        "#ticket_empresa = \"AAPL\" \n",
        "ticket_empresa = \"MINI\"\n",
        "quandl.ApiConfig.api_key =  # Key propia\n",
        "datos = quandl.get(\"WIKI/\"+ ticket_empresa,start_date=\"2009-12-21\",end_date=\"2010-12-31\")\n",
        "datos_val = quandl.get(\"WIKI/\"+ ticket_empresa,start_date=\"2010-12-22\",end_date=\"2011-03-31\")\n",
        "datos.head()"
      ],
      "execution_count": null,
      "outputs": []
    },
    {
      "cell_type": "markdown",
      "metadata": {
        "id": "konXHaKIqMCt"
      },
      "source": [
        "### Analizar datos y conjuntos.\n",
        "Cogemos el único atributo que nos interesa en esta práctica, el precio de cierre ajustado. \n",
        "Para otras versiones o prácticas más avanzadas se pueden elegir más atributos."
      ]
    },
    {
      "cell_type": "code",
      "metadata": {
        "id": "6leUfTAZqQV5"
      },
      "source": [
        ""
      ],
      "execution_count": null,
      "outputs": []
    },
    {
      "cell_type": "markdown",
      "metadata": {
        "id": "AJWuYJ00qQnk"
      },
      "source": [
        "### Visualizar y entender datos elegidos.\n",
        "\n",
        "Visualizamos la columna elegida y como fluctúa el precio de la acción a lo largo del tiempo. Se pueden observar tendencias, estacionamientos y podemos sacar conclsuiones de un análisis técnico rápido."
      ]
    },
    {
      "cell_type": "code",
      "metadata": {
        "id": "mgFdR9O3qUt2"
      },
      "source": [
        ""
      ],
      "execution_count": null,
      "outputs": []
    },
    {
      "cell_type": "markdown",
      "metadata": {
        "id": "QVJy9bP0qU6d"
      },
      "source": [
        "### Transformación de datos para entrenamiento de RNN.\n",
        "Escalamos los datos y dividimos entre datos de entrenamiento y prueba con el método HOLDOUT (70/30).\n",
        "\n",
        "Tenemos una longitud de, en este caso, 7 días y predecimos el día siguiente. \n",
        "\n",
        "Dividimos los datos en secuencicas de una longitud determinada (así lo pide las RNN)"
      ]
    },
    {
      "cell_type": "code",
      "metadata": {
        "id": "Re2ELaooqeTc"
      },
      "source": [
        ""
      ],
      "execution_count": null,
      "outputs": []
    },
    {
      "cell_type": "code",
      "metadata": {
        "id": "Nn13DSMCr_YK"
      },
      "source": [
        ""
      ],
      "execution_count": null,
      "outputs": []
    },
    {
      "cell_type": "markdown",
      "metadata": {
        "id": "WtZvdqVhr_tP"
      },
      "source": [
        "### Construcción y entrenamiendo de RNN.\n",
        "\n",
        "Construimos una RNN y usamos como método de entrenamiento una función escrita en TENSORFLOW.\n",
        "\n",
        "Esta función mide la diferenccia entre el valor real y el valor predicho, si es mayor de 0.05 lo puntúa como mala."
      ]
    },
    {
      "cell_type": "code",
      "metadata": {
        "id": "U-NTlwhCsAr7"
      },
      "source": [
        "# Calculates a successfull ratio using less relative error than a maximum\n",
        "def porcentaje_margen(y_true, y_pred):\n",
        "    margen = 0.05\n",
        "    yy = K.sum(K.cast(K.less(K.abs((y_pred/y_true)-1.0), margen), dtype=float))\n",
        "    return yy/K.cast(K.shape(y_pred)[0], dtype=float)"
      ],
      "execution_count": null,
      "outputs": []
    },
    {
      "cell_type": "code",
      "metadata": {
        "id": "x_RR9CuOsA8Y"
      },
      "source": [
        "# Model RNN"
      ],
      "execution_count": null,
      "outputs": []
    },
    {
      "cell_type": "code",
      "metadata": {
        "id": "OHpi-JObsLkj"
      },
      "source": [
        "# Model GRU"
      ],
      "execution_count": null,
      "outputs": []
    },
    {
      "cell_type": "code",
      "metadata": {
        "id": "6w7m2q2asPk4"
      },
      "source": [
        "# Model LSTM"
      ],
      "execution_count": null,
      "outputs": []
    },
    {
      "cell_type": "code",
      "metadata": {
        "id": "xLNCDwE9sZVt"
      },
      "source": [
        "# Evolución de tasas de acierto por épocas."
      ],
      "execution_count": null,
      "outputs": []
    }
  ]
}